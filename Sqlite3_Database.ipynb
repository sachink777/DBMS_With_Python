{
 "cells": [
  {
   "cell_type": "markdown",
   "metadata": {},
   "source": [
    "import sqlite3, it is in-memory database."
   ]
  },
  {
   "cell_type": "code",
   "execution_count": 1,
   "metadata": {},
   "outputs": [],
   "source": [
    "import sqlite3"
   ]
  },
  {
   "cell_type": "markdown",
   "metadata": {},
   "source": [
    "create database using sqlite.connect()"
   ]
  },
  {
   "cell_type": "code",
   "execution_count": 2,
   "metadata": {},
   "outputs": [],
   "source": [
    "db = sqlite3.connect('database.db')"
   ]
  },
  {
   "cell_type": "markdown",
   "metadata": {},
   "source": [
    "create cursur"
   ]
  },
  {
   "cell_type": "code",
   "execution_count": 3,
   "metadata": {},
   "outputs": [],
   "source": [
    "cursor = db.cursor()"
   ]
  },
  {
   "cell_type": "markdown",
   "metadata": {},
   "source": [
    "create table"
   ]
  },
  {
   "cell_type": "code",
   "execution_count": 4,
   "metadata": {},
   "outputs": [
    {
     "name": "stdout",
     "output_type": "stream",
     "text": [
      "table has created successfulyy\n"
     ]
    }
   ],
   "source": [
    "cursor.execute('create table table1(name text, batch_id int, marks real)')\n",
    "print('table has created successfulyy')"
   ]
  },
  {
   "cell_type": "markdown",
   "metadata": {},
   "source": [
    "insert operation in sqlite database"
   ]
  },
  {
   "cell_type": "code",
   "execution_count": 5,
   "metadata": {
    "scrolled": true
   },
   "outputs": [
    {
     "data": {
      "text/plain": [
       "<sqlite3.Cursor at 0x2acd99dd490>"
      ]
     },
     "execution_count": 5,
     "metadata": {},
     "output_type": "execute_result"
    }
   ],
   "source": [
    "cursor.execute('insert into table1(name,batch_id,marks) values (\"sachin\", 1001, 89)')"
   ]
  },
  {
   "cell_type": "markdown",
   "metadata": {},
   "source": [
    "And we can see in below cell, data has inserted successfully"
   ]
  },
  {
   "cell_type": "code",
   "execution_count": 6,
   "metadata": {},
   "outputs": [
    {
     "name": "stdout",
     "output_type": "stream",
     "text": [
      "('sachin', 1001, 89.0)\n"
     ]
    }
   ],
   "source": [
    "for i in cursor.execute('select * from table1'):\n",
    "    print(i)"
   ]
  },
  {
   "cell_type": "code",
   "execution_count": 7,
   "metadata": {},
   "outputs": [
    {
     "data": {
      "text/plain": [
       "<sqlite3.Cursor at 0x2acd99dd490>"
      ]
     },
     "execution_count": 7,
     "metadata": {},
     "output_type": "execute_result"
    }
   ],
   "source": [
    "cursor.execute('insert into table1(name,batch_id,marks) values (\"viraj\", 1002, 92)')\n",
    "cursor.execute('insert into table1(name,batch_id,marks) values (\"shivaji\", 1003, 93)')\n",
    "cursor.execute('insert into table1(name,batch_id,marks) values (\"banti\", 1004, 92)')\n",
    "cursor.execute('insert into table1(name,batch_id,marks) values (\"aksah\", 1005, 93)')"
   ]
  },
  {
   "cell_type": "code",
   "execution_count": 9,
   "metadata": {},
   "outputs": [
    {
     "name": "stdout",
     "output_type": "stream",
     "text": [
      "('sachin', 1001, 89.0)\n",
      "('viraj', 1002, 92.0)\n",
      "('shivaji', 1003, 93.0)\n",
      "('banti', 1004, 92.0)\n",
      "('aksah', 1005, 93.0)\n"
     ]
    }
   ],
   "source": [
    "for i in cursor.execute('select * from table1'):\n",
    "    print(i)\n",
    "# Data has inserted successfully"
   ]
  },
  {
   "cell_type": "code",
   "execution_count": 10,
   "metadata": {},
   "outputs": [],
   "source": [
    "db.commit()\n",
    "# saved all the changes of database"
   ]
  },
  {
   "cell_type": "markdown",
   "metadata": {},
   "source": [
    "Search and fetch data "
   ]
  },
  {
   "cell_type": "code",
   "execution_count": 11,
   "metadata": {
    "scrolled": true
   },
   "outputs": [
    {
     "name": "stdout",
     "output_type": "stream",
     "text": [
      "('viraj', 1002, 92.0)\n",
      "('shivaji', 1003, 93.0)\n",
      "('banti', 1004, 92.0)\n",
      "('aksah', 1005, 93.0)\n"
     ]
    }
   ],
   "source": [
    "for i in cursor.execute('select * from table1 where marks > 90'):\n",
    "    print(i)"
   ]
  },
  {
   "cell_type": "code",
   "execution_count": 14,
   "metadata": {},
   "outputs": [
    {
     "name": "stdout",
     "output_type": "stream",
     "text": [
      "('sachin', 1001, 89.0)\n",
      "('viraj', 1002, 92.0)\n",
      "('banti', 1004, 92.0)\n",
      "('shivaji', 1003, 93.0)\n",
      "('aksah', 1005, 93.0)\n"
     ]
    }
   ],
   "source": [
    "for i in cursor.execute('select * from table1 order by marks'):\n",
    "    print(i)"
   ]
  },
  {
   "cell_type": "markdown",
   "metadata": {},
   "source": [
    "Update "
   ]
  },
  {
   "cell_type": "code",
   "execution_count": 19,
   "metadata": {
    "scrolled": true
   },
   "outputs": [
    {
     "data": {
      "text/plain": [
       "<sqlite3.Cursor at 0x2acd99dd490>"
      ]
     },
     "execution_count": 19,
     "metadata": {},
     "output_type": "execute_result"
    }
   ],
   "source": [
    "cursor.execute('update table1 set marks=90 where name =\"sachin\"')"
   ]
  },
  {
   "cell_type": "code",
   "execution_count": 20,
   "metadata": {},
   "outputs": [
    {
     "name": "stdout",
     "output_type": "stream",
     "text": [
      "('sachin', 1001, 90.0)\n"
     ]
    }
   ],
   "source": [
    "for i in cursor.execute('select * from table1 where marks =90'):\n",
    "    print(i)"
   ]
  },
  {
   "cell_type": "markdown",
   "metadata": {},
   "source": [
    "Delete"
   ]
  },
  {
   "cell_type": "code",
   "execution_count": 22,
   "metadata": {},
   "outputs": [
    {
     "name": "stdout",
     "output_type": "stream",
     "text": [
      "('sachin', 1001, 90.0)\n",
      "('viraj', 1002, 92.0)\n",
      "('shivaji', 1003, 93.0)\n",
      "('banti', 1004, 92.0)\n"
     ]
    }
   ],
   "source": [
    "cursor.execute('delete from table1 where name = \"aksah\"')\n",
    "for i in cursor.execute('select * from table1'):\n",
    "    print(i)\n",
    "#  there is no record with aksah name, hence we can see data has deleted successfully "
   ]
  },
  {
   "cell_type": "markdown",
   "metadata": {},
   "source": [
    "Drop table"
   ]
  },
  {
   "cell_type": "code",
   "execution_count": null,
   "metadata": {},
   "outputs": [],
   "source": [
    "cursor.execute('drop table table1')"
   ]
  },
  {
   "cell_type": "markdown",
   "metadata": {},
   "source": [
    "Here we have performed all the operations of database in sqlite3"
   ]
  },
  {
   "cell_type": "code",
   "execution_count": 23,
   "metadata": {},
   "outputs": [
    {
     "name": "stdout",
     "output_type": "stream",
     "text": [
      "database closed successfully\n"
     ]
    }
   ],
   "source": [
    "db.close()\n",
    "print('database closed successfully')"
   ]
  },
  {
   "cell_type": "code",
   "execution_count": null,
   "metadata": {},
   "outputs": [],
   "source": []
  }
 ],
 "metadata": {
  "kernelspec": {
   "display_name": "Python 3",
   "language": "python",
   "name": "python3"
  },
  "language_info": {
   "codemirror_mode": {
    "name": "ipython",
    "version": 3
   },
   "file_extension": ".py",
   "mimetype": "text/x-python",
   "name": "python",
   "nbconvert_exporter": "python",
   "pygments_lexer": "ipython3",
   "version": "3.8.3"
  }
 },
 "nbformat": 4,
 "nbformat_minor": 4
}
